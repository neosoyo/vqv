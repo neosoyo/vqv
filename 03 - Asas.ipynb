{
 "cells": [
  {
   "cell_type": "markdown",
   "metadata": {},
   "source": [
    "# Tipos de asas e sua geometria\n",
    "\n",
    "Abaixo estão os três principais tipos de asas definidas em termos de funções, explore-as para compreender como foram traçadas!\n",
    "\n",
    "Baseando-se nas varíaveis que definem cada tipo de asa, calcula-se algumas grandezas muito importantes no projeto, que são:\n",
    "\n",
    "* $S_{ref}$ - Área de asa\n",
    "* $AR$ - Alongamento (Aspect ratio)\n",
    "* $CMA$ - Corda Média Aerodinâmica (Mean Aerodynamic Chord)"
   ]
  },
  {
   "cell_type": "code",
   "execution_count": 2,
   "metadata": {},
   "outputs": [],
   "source": [
    "import math\n",
    "import numpy as np\n",
    "import bqplot as bq\n",
    "import ipywidgets as widgets\n",
    "from ipywidgets import interact\n",
    "import matplotlib.pyplot as plt\n",
    "from scipy.integrate import quad, trapz\n",
    "%matplotlib inline"
   ]
  },
  {
   "cell_type": "markdown",
   "metadata": {},
   "source": [
    "## Asa trapezoidal\n",
    "\n",
    "A asa trapezoidal é definida por:\n",
    "\n",
    "* $B$ - Envergadura\n",
    "* $Cr$ - Corda da raíz (Root chord)\n",
    "* $\\lambda$ - Afilamento (Taper ratio)\n",
    "* $\\Lambda$ - Enflechamento (Sweept angle)\n",
    "* $cl$ - Linha de centro\n",
    "\n",
    "A linha de centro não é muito usual, mas adicionamos aqui para demonstrar como a posição de referência do ângulo de enflechamento é importante!\n",
    "\n",
    "### Exemplo:\n",
    "\n",
    "![T-27 Tucano](https://www.bravobravoaviation.com/1870-large_default/t-27-tucano-esquadrilha-da-fumaca-demonstration-team-forca-aerea-brasileira.jpg)\n"
   ]
  },
  {
   "cell_type": "code",
   "execution_count": 7,
   "metadata": {},
   "outputs": [
    {
     "data": {
      "application/vnd.jupyter.widget-view+json": {
       "model_id": "2a8693ce116d49d1bd2f5a08fe1ad805",
       "version_major": 2,
       "version_minor": 0
      },
      "text/plain": [
       "interactive(children=(FloatSlider(value=11.14, description='Envergadura [m]', max=35.0, min=0.5, step=0.01), F…"
      ]
     },
     "metadata": {},
     "output_type": "display_data"
    },
    {
     "data": {
      "application/vnd.jupyter.widget-view+json": {
       "model_id": "1cee851ea0394955a886e9d1b15a644e",
       "version_major": 2,
       "version_minor": 0
      },
      "text/plain": [
       "HBox(children=(BoundedFloatText(value=19.185865000000003, description='Área de asa [m²]:', disabled=True), Bou…"
      ]
     },
     "metadata": {},
     "output_type": "display_data"
    }
   ],
   "source": [
    "Sreftaper= widgets.BoundedFloatText(description='Área de asa [m²]:',format='0.1f',disabled=True)\n",
    "ARtaper  = widgets.BoundedFloatText(description='Alongamento:',disabled=True)\n",
    "CMAtaper = widgets.BoundedFloatText(description='CMA:',disabled=True)\n",
    "\n",
    "def AsaTrapezoidal(B,Croot,taper,sweept,cl):\n",
    "    \n",
    "    def Cb(x,b,c):\n",
    "        return math.pow(np.interp(x,b,c),2)\n",
    "    \n",
    "    Nchords = 10\n",
    "    b = np.linspace(0,B/2,Nchords)\n",
    "    ctaper = np.linspace(Croot,Croot*taper,Nchords)\n",
    "    \n",
    "    I = quad(Cb,0,B/2,args=(b,ctaper))\n",
    "     \n",
    "    cltaper=[]\n",
    "    LEtaper=[]\n",
    "    TEtaper=[]\n",
    "    LEtaper.append(0)\n",
    "    TEtaper.append(Croot)\n",
    "    cltaper.append(Croot*cl)\n",
    "    \n",
    "    for chord,span in zip(ctaper[1:],b[1:]):\n",
    "        cltaper.append(Croot*cl+span*math.tan(sweept*np.pi/180))\n",
    "        LEtaper.append(Croot*cl+span*math.tan(sweept*np.pi/180)-chord*cl)\n",
    "        TEtaper.append(Croot*(cl)+span*math.tan(sweept*np.pi/180)+chord*(1-cl)) \n",
    "    \n",
    "    Sreftaper.value = np.mean(ctaper)*B/2\n",
    "    ARtaper.value   = (B*B)/Sreftaper.value\n",
    "    CMAtaper.value  = max(I)/Sreftaper.value\n",
    "    \n",
    "    if taper <= 1:\n",
    "        bcma = np.interp(CMAtaper.value,np.flip(ctaper),np.flip(b))\n",
    "    else:\n",
    "        bcma = np.interp(CMAtaper.value,ctaper,b)\n",
    "    LEcma= np.interp(bcma,b,LEtaper)\n",
    "    TEcma= np.interp(bcma,b,TEtaper)\n",
    "    \n",
    "    fig = plt.figure(figsize=(15, 15), dpi=72, facecolor='w', edgecolor='k')\n",
    "    ax = fig.add_subplot(2, 1, 1)\n",
    "    ax.plot(b, LEtaper, color=\"black\")\n",
    "    ax.plot(b, TEtaper, color=\"black\")\n",
    "    ax.plot(-b,LEtaper, color=\"black\")\n",
    "    ax.plot(-b,TEtaper, color=\"black\")  \n",
    "    ax.plot([B/2,B/2],[LEtaper[-1],TEtaper[-1]], color=\"black\")\n",
    "    ax.plot([-B/2,-B/2],[LEtaper[-1],TEtaper[-1]], color=\"black\")\n",
    "    \n",
    "    ax.plot([bcma, bcma],[LEcma, TEcma], color=\"red\")\n",
    "    ax.plot(-b,cltaper,color=\"gray\")\n",
    "    ax.plot(b, cltaper,color=\"gray\")\n",
    "    ax.grid(True)\n",
    "    ax.title.set_text('Asa Trapezoidal')\n",
    "    ax.set_xlabel('Envergadura [m]')\n",
    "    ax.set_ylabel('Corda [m]')\n",
    "    ax.set_aspect('equal', 'datalim')\n",
    "    fig.canvas.draw()\n",
    "    \n",
    "interact(AsaTrapezoidal,\n",
    "        B      = widgets.FloatSlider(min=0.5,max=35.0,step=0.01,value=11.14, description='Envergadura [m]'),\n",
    "        Croot  = widgets.FloatSlider(min=0.22,max=10.0,step=0.01, value=4.15, description='Corda na raíz[m]'),\n",
    "        taper  = widgets.FloatSlider(min=0.1,max=2.0, step=0.01,value=0.66, description='Afilamento'),\n",
    "        sweept = widgets.FloatSlider(min=-15,max=50,step=0.01,value=0,description='Enflechamento [º]'),\n",
    "        cl     = widgets.FloatSlider(min=0,max=1,step=0.01,value=0.25,description='Linha de referência'),\n",
    "        );\n",
    "widgets.HBox([Sreftaper,ARtaper,CMAtaper])"
   ]
  },
  {
   "cell_type": "markdown",
   "metadata": {},
   "source": [
    "## Asa Mista\n",
    "\n",
    "A asa mista é definida por:\n",
    "\n",
    "* $B$ - Envergadura\n",
    "* $Cr$ - Corda da raíz\n",
    "* $\\lambda$ - Afilamento\n",
    "* $\\Lambda$ - Enflechamento\n",
    "* $cl$ - Linha de centro\n",
    "* $B_{reta}$ - Proporção de asa reta\n",
    "\n",
    "### Exemplo:\n",
    "\n",
    "![Cessna 182 Skylane](https://www.top-flite.com/airplanes/topa0906-4view-lg.jpg)\n"
   ]
  },
  {
   "cell_type": "code",
   "execution_count": 8,
   "metadata": {},
   "outputs": [
    {
     "data": {
      "application/vnd.jupyter.widget-view+json": {
       "model_id": "2acef21281fb4acb8524dac73e2ddddb",
       "version_major": 2,
       "version_minor": 0
      },
      "text/plain": [
       "interactive(children=(FloatSlider(value=11.0, description='Envergadura [m]', max=35.0, min=0.5, step=0.01), Fl…"
      ]
     },
     "metadata": {},
     "output_type": "display_data"
    },
    {
     "data": {
      "application/vnd.jupyter.widget-view+json": {
       "model_id": "ccbc6c62ed6549c0adbd7532d967ff04",
       "version_major": 2,
       "version_minor": 0
      },
      "text/plain": [
       "HBox(children=(BoundedFloatText(value=16.104, description='Área de asa [m²]:', disabled=True), BoundedFloatTex…"
      ]
     },
     "metadata": {},
     "output_type": "display_data"
    }
   ],
   "source": [
    "Srefmista= widgets.BoundedFloatText(description='Área de asa [m²]:',format='0.1f',disabled=True)\n",
    "ARmista  = widgets.BoundedFloatText(description='Alongamento:',disabled=True)\n",
    "CMAmista = widgets.BoundedFloatText(description='CMA:',disabled=True)\n",
    "\n",
    "def AsaMista(B,Croot,taper,sweept,cl,cmista):\n",
    "    \n",
    "    def Cb(x,b,c):\n",
    "        return math.pow(np.interp(x,b,c),2)\n",
    "    \n",
    "    Nchords = 10\n",
    "    b = np.linspace(0,B/2,Nchords-1)\n",
    "    b = np.append(b,cmista*B/2)\n",
    "    b = np.sort(b)\n",
    "    \n",
    "    c = []    \n",
    "    \n",
    "    for bi in b:\n",
    "        if bi <= cmista*B/2:\n",
    "            c.append(Croot)\n",
    "        else:\n",
    "            if taper <= 1:\n",
    "                c.append(np.interp(bi,[cmista*B/2, B/2],[Croot, Croot*taper]))\n",
    "            else:\n",
    "                c.append(np.interp(bi,np.flip([cmista*B/2, B/2]),np.flip([Croot, Croot*taper])))\n",
    "    \n",
    "    I = quad(Cb,0,B/2,args=(b,c))\n",
    "     \n",
    "    clmista=[]\n",
    "    LEmista=[]\n",
    "    TEmista=[]\n",
    "    LEmista.append(0)\n",
    "    TEmista.append(Croot)\n",
    "    clmista.append(Croot*cl)\n",
    "\n",
    "    \n",
    "    for chord,span in zip(c[1:],b[1:]):\n",
    "        clmista.append(Croot*cl+span*math.tan(sweept*np.pi/180))\n",
    "        LEmista.append(Croot*cl+span*math.tan(sweept*np.pi/180)-chord*cl)\n",
    "        TEmista.append(Croot*(cl)+span*math.tan(sweept*np.pi/180)+chord*(1-cl)) \n",
    "    \n",
    "    Srefmista.value = Croot*cmista*B/2 + (Croot+Croot*taper)/2*(B/2*(1-cmista))\n",
    "    ARmista.value   = (B*B)/Srefmista.value\n",
    "    CMAmista.value  = max(I)/Srefmista.value\n",
    "    \n",
    "    if taper <= 1:\n",
    "        bcma = np.interp(CMAmista.value,np.flip(c),np.flip(b))\n",
    "    else:\n",
    "        bcma = np.interp(CMAmista.value,c,b)\n",
    "    LEcma= np.interp(bcma,b,LEmista)\n",
    "    TEcma= np.interp(bcma,b,TEmista)\n",
    "    \n",
    "    fig = plt.figure(figsize=(15, 15), dpi=72, facecolor='w', edgecolor='k')\n",
    "    ax = fig.add_subplot(2, 1, 1)\n",
    "    ax.plot(b, LEmista, color=\"black\")\n",
    "    ax.plot(b, TEmista, color=\"black\")\n",
    "    ax.plot(-b,LEmista, color=\"black\")\n",
    "    ax.plot(-b,TEmista, color=\"black\")  \n",
    "    ax.plot([B/2,B/2],[LEmista[-1],TEmista[-1]], color=\"black\")\n",
    "    ax.plot([-B/2,-B/2],[LEmista[-1],TEmista[-1]], color=\"black\")\n",
    "    \n",
    "    ax.plot([bcma, bcma],[LEcma, TEcma], color=\"red\")\n",
    "    ax.plot(-b,clmista,color=\"gray\")\n",
    "    ax.plot(b, clmista,color=\"gray\")\n",
    "    ax.grid(True)\n",
    "    ax.title.set_text('Asa mista')\n",
    "    ax.set_xlabel('Envergadura [m]')\n",
    "    ax.set_ylabel('Corda [m]')\n",
    "    ax.set_aspect('equal', 'datalim')\n",
    "    fig.canvas.draw()\n",
    "    \n",
    "interact(AsaMista,\n",
    "        B      = widgets.FloatSlider(min=0.5,max=35.0,step=0.01,value=11, description='Envergadura [m]'),\n",
    "        Croot  = widgets.FloatSlider(min=0.22,max=10.0,step=0.01, value=3.2, description='Corda na raíz[m]'),\n",
    "        taper  = widgets.FloatSlider(min=0.1,max=2.0, step=0.01,value=0.66, description='Afilamento'),\n",
    "        sweept = widgets.FloatSlider(min=-15,max=50,step=0.01,value=0,description='Enflechamento [º]'),\n",
    "        cmista = widgets.FloatSlider(min=0.01,max=1,step=0.01,value=0.5,description='Proporção de asa reta'),\n",
    "        cl     = widgets.FloatSlider(min=0,max=1,step=0.01,value=0.25,description='Linha de referência'),\n",
    "        );\n",
    "widgets.HBox([Srefmista,ARmista,CMAmista])"
   ]
  },
  {
   "cell_type": "markdown",
   "metadata": {},
   "source": [
    "## Asa Elíptica\n",
    "\n",
    "A asa elíptica é definida por:\n",
    "\n",
    "* $B$ - Envergadura\n",
    "* $Cr$ - Corda da raíz (Root chord)\n",
    "* $\\lambda$ - Afilamento (Taper ratio)\n",
    "* $\\Lambda$ - Enflechamento (Sweept angle)\n",
    "* $cl$ - Linha de centro\n",
    "\n",
    "### Exemplo:\n",
    "\n",
    "![Spitfire](https://i.pinimg.com/originals/0a/37/51/0a3751ced51a7a72f4a43c31f7d2e96d.jpg)\n",
    "\n"
   ]
  },
  {
   "cell_type": "code",
   "execution_count": 9,
   "metadata": {},
   "outputs": [
    {
     "data": {
      "application/vnd.jupyter.widget-view+json": {
       "model_id": "0538cac484e64091a3030e9d442bccda",
       "version_major": 2,
       "version_minor": 0
      },
      "text/plain": [
       "interactive(children=(FloatSlider(value=12.0, description='Envergadura [m]', max=35.0, min=0.5, step=0.01), Fl…"
      ]
     },
     "metadata": {},
     "output_type": "display_data"
    },
    {
     "data": {
      "application/vnd.jupyter.widget-view+json": {
       "model_id": "6a1361cb034d48ee9d07ad270fc613c0",
       "version_major": 2,
       "version_minor": 0
      },
      "text/plain": [
       "HBox(children=(BoundedFloatText(value=21.68842822787883, description='Área de asa [m²]:', disabled=True), Boun…"
      ]
     },
     "metadata": {},
     "output_type": "display_data"
    }
   ],
   "source": [
    "Srefelipt= widgets.BoundedFloatText(description='Área de asa [m²]:',format='0.1f',disabled=True)\n",
    "ARelipt  = widgets.BoundedFloatText(description='Alongamento:',disabled=True)\n",
    "CMAelipt = widgets.BoundedFloatText(description='CMA:',disabled=True)\n",
    "\n",
    "def AsaEliptica(B,Croot,taper,sweept,cl):\n",
    "    \n",
    "    def Cb(x,b,c):\n",
    "        return math.pow(np.interp(x,b,c),2)\n",
    "    \n",
    "    Nchords = 10\n",
    "    t = np.linspace(0,np.pi/2,Nchords)\n",
    "    b = 0 +(B/2*np.sin(t))\n",
    "    \n",
    "    c = Croot*taper +(Croot*(1-taper)*np.cos(t))   \n",
    "    \n",
    "    #for bi in b:\n",
    "    #    if bi <= cmista*B/2:\n",
    "    #        c.append(Croot)\n",
    "    #    else:\n",
    "    #        if taper <= 1:\n",
    "    #            c.append(np.interp(bi,[cmista*B/2, B/2],[Croot, Croot*taper]))\n",
    "    #        else:\n",
    "    #            c.append(np.interp(bi,np.flip([cmista*B/2, B/2]),np.flip([Croot, Croot*taper])))\n",
    "    \n",
    "    I = quad(Cb,0.1,B/2,args=(b,c),limit=50,epsrel=0.001)\n",
    "    clelipt=[]\n",
    "    LEelipt=[]\n",
    "    TEelipt=[]\n",
    "    LEelipt.append(0)\n",
    "    TEelipt.append(Croot)\n",
    "    clelipt.append(Croot*cl)\n",
    "\n",
    "    \n",
    "    for chord,span in zip(c[1:],b[1:]):\n",
    "        clelipt.append(Croot*cl+span*math.tan(sweept*np.pi/180))\n",
    "        LEelipt.append(Croot*cl+span*math.tan(sweept*np.pi/180)-chord*cl)\n",
    "        TEelipt.append(Croot*(cl)+span*math.tan(sweept*np.pi/180)+chord*(1-cl)) \n",
    "    \n",
    "    Srefelipt.value = trapz(c,b)\n",
    "    \n",
    "    \n",
    "    ARelipt.value   = (B*B)/Srefelipt.value\n",
    "    CMAelipt.value  = max(I)/Srefelipt.value\n",
    "    \n",
    "    if taper <= 1:\n",
    "        bcma = np.interp(CMAelipt.value,np.flip(c),np.flip(b))\n",
    "    else:\n",
    "        bcma = np.interp(CMAelipt.value,c,b)\n",
    "    LEcma= np.interp(bcma,b,LEelipt)\n",
    "    TEcma= np.interp(bcma,b,TEelipt)\n",
    "    \n",
    "    fig = plt.figure(figsize=(15, 15), dpi=72, facecolor='w', edgecolor='k')\n",
    "    ax = fig.add_subplot(2, 1, 1)\n",
    "    ax.plot(b, LEelipt, color=\"black\")\n",
    "    ax.plot(b, TEelipt, color=\"black\")\n",
    "    ax.plot(-b,LEelipt, color=\"black\")\n",
    "    ax.plot(-b,TEelipt, color=\"black\")  \n",
    "    ax.plot([B/2,B/2],[LEelipt[-1],TEelipt[-1]], color=\"black\")\n",
    "    ax.plot([-B/2,-B/2],[LEelipt[-1],TEelipt[-1]], color=\"black\")\n",
    "    \n",
    "    ax.plot([bcma, bcma],[LEcma, TEcma], color=\"red\")\n",
    "    ax.plot(-b,clelipt,color=\"gray\")\n",
    "    ax.plot(b, clelipt,color=\"gray\")\n",
    "    ax.grid(True)\n",
    "    ax.title.set_text('Asa elíptica')\n",
    "    ax.set_xlabel('Envergadura [m]')\n",
    "    ax.set_ylabel('Corda [m]')\n",
    "    ax.set_aspect('equal', 'datalim')\n",
    "    fig.canvas.draw()\n",
    "    \n",
    "interact(AsaEliptica,\n",
    "        B      = widgets.FloatSlider(min=0.5,max=35.0,step=0.01,value=12.0, description='Envergadura [m]'),\n",
    "        Croot  = widgets.FloatSlider(min=0.22,max=10.0,step=0.01, value=4.5, description='Corda na raíz[m]'),\n",
    "        taper  = widgets.FloatSlider(min=0.1,max=2.0, step=0.01,value=0.1, description='Afilamento'),\n",
    "        sweept = widgets.FloatSlider(min=-15,max=50,step=0.01,value=0,description='Enflechamento [º]'),\n",
    "        cl     = widgets.FloatSlider(min=0,max=1,step=0.01,value=0.25,description='Linha de referência'),\n",
    "        );\n",
    "widgets.HBox([Srefelipt,ARelipt,CMAelipt])"
   ]
  },
  {
   "cell_type": "markdown",
   "metadata": {},
   "source": [
    "# Desafio!\n",
    "\n",
    "Repararam como as funções são muito similares? o que acha de juntar todos os tipos de asas em uma função só?"
   ]
  }
 ],
 "metadata": {
  "kernelspec": {
   "display_name": "Python 3",
   "language": "python",
   "name": "python3"
  },
  "language_info": {
   "codemirror_mode": {
    "name": "ipython",
    "version": 3
   },
   "file_extension": ".py",
   "mimetype": "text/x-python",
   "name": "python",
   "nbconvert_exporter": "python",
   "pygments_lexer": "ipython3",
   "version": "3.6.7"
  }
 },
 "nbformat": 4,
 "nbformat_minor": 2
}
