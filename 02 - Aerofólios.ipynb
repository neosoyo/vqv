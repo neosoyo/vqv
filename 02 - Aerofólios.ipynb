{
 "cells": [
  {
   "cell_type": "markdown",
   "metadata": {},
   "source": [
    "# Métodos para cálculo de aerofólios #\n",
    "\n",
    "Serão apresentados os métodos clássicos e modernos de projeto de aerofólios.\n",
    "\n",
    "## Arefólios NACA 4 Dígitos ##"
   ]
  },
  {
   "cell_type": "markdown",
   "metadata": {},
   "source": [
    "o Aerofólio é desenhado a partir de uma curva central de arqueamento e a espessura máxima do perfil, que são definidos por 3 números:\n",
    "\n",
    "NACA  | M | P | TT\n",
    "Sendo:\n",
    "* M = É o arqueamento máximo do perfil (em porcentagem da corda ( M/100 = %))\n",
    "* P = É a posição do ponto máximo de arqueamento (em porcentagem da corda (P/10 = %))\n",
    "* TT = é a espessura máxima do perfil no ponto P (em porcentagem da corda (TT/100 = %))\n",
    "\n",
    "Então, o perfil NACA 2412 possui 2% de arqueamento, com ponto máximo em 40% do perfil e 12% de espessura máxima.\n",
    "\n",
    "Para traçar o perfil, primeiro deve-se traçar a curva de arqueamento, que é dividida na parcela anterior e posterior ao ponto P, considerando corda unitária:\n",
    "\n",
    "Para $0\\leq x<P$: \n",
    " \n",
    "$y_c(x) = \\frac{M}{P^2}(2Px-x^2) $\n",
    "\n",
    "$\\frac{dy_c}{x}=\\frac{2M}{P^2}(P-x)$\n",
    "\n",
    "Para $P\\leq x >1$:\n",
    "\n",
    "$y_c(x) = \\frac{M}{(1-P)^2}(1-2P+2Px-x^2)$\n",
    "\n",
    "$\\frac{dy_c}{x}=\\frac{2M}{(1-P)^2}(P-x)$\n",
    "\n",
    "\n",
    "Já a distribuição de espessura ao longo da corda é dada pela expressão:\n",
    "\n",
    "$y_t(x) = \\frac{TT}{0.2}(a_0x^{0.5}+a_1x+a_2x^2+a3x^3+a_4x^4)$\n",
    "\n",
    "Sendo:\n",
    "\n",
    "$a_0 = 0.2969 \\quad\\quad a_1 = -0.126 \\quad\\quad a_2 = -0.3516 \\quad\\quad a_3 = 0.2843 \\quad\\quad a_4 = -0.1036$\n",
    "\n",
    "Por fim, o Cálculo das superfícies superior e inferior do aerofólio são definidas:\n",
    "\n",
    "* Superfície Superior: $X_u = x-y_t(x)\\sin{\\theta} \\quad\\quad\\quad Y_u = y_c(x)+y_t(x)\\cos{\\theta}$\n",
    "* Superfície Inferior: $X_b = x-y_t(x)\\sin{\\theta} \\quad\\quad\\quad Y_b = y_c(x)-y_t(x)\\cos{\\theta}$\n",
    "\n",
    "Sendo $\\theta = atan\\left(\\frac{dy_c}{x}\\right)$\n"
   ]
  },
  {
   "cell_type": "code",
   "execution_count": 1,
   "metadata": {},
   "outputs": [],
   "source": [
    "import math\n",
    "import numpy as np\n",
    "from ipywidgets import interact\n",
    "from ipywidgets import *\n",
    "import numpy as np\n",
    "import matplotlib.pyplot as plt\n",
    "%matplotlib inline\n"
   ]
  },
  {
   "cell_type": "code",
   "execution_count": 2,
   "metadata": {},
   "outputs": [
    {
     "data": {
      "application/vnd.jupyter.widget-view+json": {
       "model_id": "f259172eebe242e8bb0073888961c80f",
       "version_major": 2,
       "version_minor": 0
      },
      "text/plain": [
       "interactive(children=(IntSlider(value=0, description='P', max=9), IntSlider(value=10, description='TT', max=30…"
      ]
     },
     "metadata": {},
     "output_type": "display_data"
    }
   ],
   "source": [
    "def NACA4(P,TT,M):\n",
    "    Npoints = 50\n",
    "    a0 = 0.2969\n",
    "    a1 = -0.126\n",
    "    a2 = -0.3516\n",
    "    a3 = 0.2843\n",
    "    a4 = -0.1036 #Se quiser manter o perfil aberto no bordo de fuga, usar -0.1015\n",
    "    YU = []\n",
    "    YB = []\n",
    "    X  = []\n",
    "    YC = []\n",
    "    \n",
    "    b = np.linspace(0,math.pi,Npoints)\n",
    "    x = (1-np.cos(b))/2\n",
    "    TT = TT/100\n",
    "    M  = M/100\n",
    "    P  = P/10\n",
    "    for xc in x:\n",
    "    \n",
    "        if xc<P:\n",
    "            yc = (M/math.pow(P,2))*(2*P*xc-math.pow(xc,2))\n",
    "            dyc =(2*M/math.pow(P,2))*(P-xc)\n",
    "        else:\n",
    "            yc = (M/(math.pow(1-P,2)))*(1-2*P+2*P*xc-math.pow(xc,2))\n",
    "            dyc =(2*M/(math.pow(1-P,2)))*(P-xc)\n",
    "    \n",
    "        theta = np.arctan(dyc)\n",
    "    \n",
    "        yt = (TT/0.2)*(a0*math.sqrt(xc) + a1*xc + a2*math.pow(xc,2) + a3*math.pow(xc,3) + a4*math.pow(xc,4))\n",
    "        \n",
    "        X.append(xc-yt*np.sin(theta))\n",
    "        YU.append(yc+yt*np.cos(theta))\n",
    "        YB.append(yc-yt*np.cos(theta))\n",
    "        YC.append(yc)\n",
    "        \n",
    "    X  = np.array(X)    \n",
    "    YU = np.array(YU)\n",
    "    YC = np.array(YC)\n",
    "    YB = np.array(YB)\n",
    "    \n",
    "    fig = plt.figure(figsize=(10, 6), dpi=80, facecolor='w', edgecolor='k')\n",
    "    ax = fig.add_subplot(2, 1, 1)\n",
    "    ax.plot(X, YC,color=\"black\")\n",
    "    ax.plot(X, YU,color=\"blue\")\n",
    "    ax.plot(X,YB,color=\"red\")\n",
    "    ax.grid(True)\n",
    "    ax.title.set_text('Perfil NACA %d%d%0.2d'%(int(M*100),int(P*10),int(TT*100)))\n",
    "    ax.set_xlabel('Corda relativa')\n",
    "    ax.set_ylabel('Espessura relativa')\n",
    "    ax.set_aspect('equal', 'datalim')\n",
    "    ax.legend(['Arqueamento','Extradorso','Intradorso'], loc=0)\n",
    "    fig.canvas.draw()\n",
    "    \n",
    "interact(NACA4, P=widgets.IntSlider(min=0,max=9,step=1,value=0),TT=widgets.IntSlider(min=1,max=30,step=1,value=10),M=widgets.IntSlider(min=0,max=9,step=1,value=0));"
   ]
  },
  {
   "cell_type": "markdown",
   "metadata": {},
   "source": [
    "## Aerofólios Horten\n",
    "\n",
    "Os perfis aerodinâmicos desenvolvidos pelos irmãos Horten para asas voadoras possuem 2 grandezas de controle:\n",
    "\n",
    "* M - O arqueamento máximo do perfil;\n",
    "* TT - A espessura máxima do perfil.\n",
    "\n",
    "A linha de arqueamento é definida pela expressão:\n",
    "\n",
    "$y_c(x) = M\\frac{x}{0,1055}(1-x)^3$\n",
    "\n",
    "Já a distribuição de espessura é calculada pela expressão:\n",
    "\n",
    "$y_t(x) = TT\\sqrt{x}\\sqrt{2-x}(1-x)$\n",
    "\n",
    "O Extradorso é definido então pela soma de $y_c(x)$ com $y_t(x)$ e o intradorso pela subtração:\n",
    "\n",
    "$Y_u(x) = y_c(x)+y_t(x)$\n",
    "\n",
    "$Y_b(x) = y_c(x)-y_t(x)$"
   ]
  },
  {
   "cell_type": "code",
   "execution_count": 3,
   "metadata": {},
   "outputs": [
    {
     "data": {
      "image/png": "[encoded data removed]",
      "text/plain": [
       "<Figure size 800x480 with 1 Axes>"
      ]
     },
     "metadata": {},
     "output_type": "display_data"
    }
   ],
   "source": [
    "def HORTEN(TT,M):\n",
    "    Npoints = 50\n",
    "    c1 = 0.1055\n",
    "    YU = []\n",
    "    YB = []\n",
    "    X  = []\n",
    "    YC = []\n",
    "    \n",
    "    b = np.linspace(0,math.pi,Npoints)\n",
    "    x = (1-np.cos(b))/2\n",
    "    TT = TT/100\n",
    "    M  = M/100\n",
    "    x = (1-np.cos(b))/2\n",
    "\n",
    "    for xc in x:\n",
    "    \n",
    "        yc = M*(xc/c1)*math.pow((1-xc),3)\n",
    "        yt = TT*math.sqrt(xc)*math.sqrt(2-xc)*(1-xc)\n",
    "        \n",
    "        X.append(xc)\n",
    "        YU.append(yc+yt)\n",
    "        YB.append(yc-yt)\n",
    "        YC.append(yc)\n",
    "        \n",
    "    X  = np.array(X)    \n",
    "    YU = np.array(YU)\n",
    "    YC = np.array(YC)\n",
    "    YB = np.array(YB)\n",
    "    \n",
    "    fig = plt.figure(figsize=(10, 6), dpi=80, facecolor='w', edgecolor='k')\n",
    "    ax = fig.add_subplot(2, 1, 1)\n",
    "    ax.plot(X, YC,color=\"black\")\n",
    "    ax.plot(X, YU,color=\"blue\")\n",
    "    ax.plot(X,YB,color=\"red\")\n",
    "    ax.set_aspect('equal', 'datalim')\n",
    "    ax.grid(True)\n",
    "    ax.title.set_text('Perfil Horten Arqueamento: %2.2f%%, Espessura: %2.2f%%'%(M*100,TT*100))\n",
    "    ax.set_xlabel('Corda relativa')\n",
    "    ax.set_ylabel('Espessura relativa')\n",
    "    ax.set_aspect('equal', 'datalim')\n",
    "    ax.legend(['Arqueamento','Extradorso','Intradorso'], loc=0)\n",
    "    fig.canvas.draw()\n",
    "interact(HORTEN,TT=widgets.FloatSlider(min=1,max=30,step=0.01,value=10),M=widgets.FloatSlider(min=0,max=30,step=0.01,value=0));"
   ]
  },
  {
   "cell_type": "markdown",
   "metadata": {},
   "source": [
    "# Desafio! #\n",
    "\n",
    "- Existem vários outros métodos geométricos para traçar perfis (tais como os perfis Selig, Worthman..), você é capaz de aplicá-los aqui?\n",
    "- O que acha de adicionar uma opção para exportar o perfil em um arquivo .dat?"
   ]
  },
  {
   "cell_type": "code",
   "execution_count": null,
   "metadata": {},
   "outputs": [],
   "source": []
  }
 ],
 "metadata": {
  "kernelspec": {
   "display_name": "Python 3",
   "language": "python",
   "name": "python3"
  },
  "language_info": {
   "codemirror_mode": {
    "name": "ipython",
    "version": 3
   },
   "file_extension": ".py",
   "mimetype": "text/x-python",
   "name": "python",
   "nbconvert_exporter": "python",
   "pygments_lexer": "ipython3",
   "version": "3.7.1"
  }
 },
 "nbformat": 4,
 "nbformat_minor": 2
}
